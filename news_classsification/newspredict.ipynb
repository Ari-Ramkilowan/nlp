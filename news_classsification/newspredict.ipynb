{
 "cells": [
  {
   "cell_type": "code",
   "execution_count": 1,
   "metadata": {},
   "outputs": [
    {
     "name": "stderr",
     "output_type": "stream",
     "text": [
      "Using TensorFlow backend.\n"
     ]
    }
   ],
   "source": [
    "'''This script loads pre-trained word embeddings (GloVe embeddings)\n",
    "into a frozen Keras Embedding layer, and uses it to\n",
    "train a text classification model on the 20 Newsgroup dataset\n",
    "(classification of newsgroup messages into 20 different categories).\n",
    "\n",
    "GloVe embedding data can be found at:\n",
    "http://nlp.stanford.edu/data/glove.6B.zip\n",
    "(source page: http://nlp.stanford.edu/projects/glove/)\n",
    "\n",
    "20 Newsgroup data can be found at:\n",
    "http://www.cs.cmu.edu/afs/cs.cmu.edu/project/theo-20/www/data/news20.html\n",
    "'''\n",
    "\n",
    "from __future__ import print_function\n",
    "\n",
    "import os\n",
    "import sys\n",
    "import numpy as np\n",
    "from keras.preprocessing.text import Tokenizer\n",
    "from keras.preprocessing.sequence import pad_sequences\n",
    "from keras.utils import to_categorical\n",
    "from keras.layers import Dense, Input, GlobalMaxPooling1D\n",
    "from keras.layers import Conv1D, MaxPooling1D, Embedding\n",
    "from keras.models import Model\n",
    "from keras.initializers import Constant\n",
    "from keras.models import model_from_json\n"
   ]
  },
  {
   "cell_type": "code",
   "execution_count": 2,
   "metadata": {},
   "outputs": [],
   "source": [
    "\n",
    "BASE_DIR = '/Volumes/My Passport for Mac/data'\n",
    "GLOVE_DIR = os.path.join(BASE_DIR, 'glove.6B')\n",
    "TEXT_DATA_DIR = os.path.join(BASE_DIR, '20_newsgroup')\n",
    "MAX_SEQUENCE_LENGTH = 1000\n",
    "MAX_NUM_WORDS = 20000\n",
    "EMBEDDING_DIM = 100\n",
    "VALIDATION_SPLIT = 0.2\n",
    "\n",
    "\n"
   ]
  },
  {
   "cell_type": "code",
   "execution_count": 3,
   "metadata": {},
   "outputs": [
    {
     "name": "stdout",
     "output_type": "stream",
     "text": [
      "Processing text dataset\n",
      "Found 19997 texts.\n",
      "0\n"
     ]
    }
   ],
   "source": [
    "\n",
    "# second, prepare text samples and their labels\n",
    "print('Processing text dataset')\n",
    "\n",
    "texts = []  # list of text samples\n",
    "labels_index = {}  # dictionary mapping label name to numeric id\n",
    "index_to_label_dict = {}\n",
    "labels = []  # list of label ids\n",
    "for name in sorted(os.listdir(TEXT_DATA_DIR)):\n",
    "    path = os.path.join(TEXT_DATA_DIR, name)\n",
    "    if os.path.isdir(path):\n",
    "        label_id = len(labels_index)\n",
    "        labels_index[name] = label_id\n",
    "        index_to_label_dict[label_id] = name\n",
    "        for fname in sorted(os.listdir(path)):\n",
    "            if fname.isdigit():\n",
    "                fpath = os.path.join(path, fname)\n",
    "                args = {} if sys.version_info < (3,) else {'encoding': 'latin-1'}\n",
    "                with open(fpath, **args) as f:\n",
    "                    t = f.read()\n",
    "                    i = t.find('\\n\\n')  # skip header\n",
    "                    if 0 < i:\n",
    "                        t = t[i:]\n",
    "                    texts.append(t)\n",
    "                labels.append(label_id)\n",
    "\n",
    "print('Found %s texts.' % len(texts))\n",
    "#print(texts.shape)\n",
    "print(labels[0])\n"
   ]
  },
  {
   "cell_type": "code",
   "execution_count": null,
   "metadata": {},
   "outputs": [],
   "source": [
    "\n"
   ]
  },
  {
   "cell_type": "code",
   "execution_count": 4,
   "metadata": {},
   "outputs": [
    {
     "name": "stdout",
     "output_type": "stream",
     "text": [
      "loading model .....\n",
      "Loaded model from disk\n",
      "done\n"
     ]
    }
   ],
   "source": [
    "print(\"loading model .....\")\n",
    "# load json and create model\n",
    "json_file = open('/Volumes/My Passport for Mac/model/model.json', 'r')\n",
    "loaded_model_json = json_file.read()\n",
    "json_file.close()\n",
    "loaded_model = model_from_json(loaded_model_json)\n",
    "# load weights into new model\n",
    "loaded_model.load_weights(\"/Volumes/My Passport for Mac/model/model.h5\")\n",
    "print(\"Loaded model from disk\")\n",
    " \n",
    "# evaluate loaded model on test data\n",
    "loaded_model.compile(loss='categorical_crossentropy', optimizer='rmsprop', metrics=['accuracy'])\n",
    "print(\"done\")\n"
   ]
  },
  {
   "cell_type": "code",
   "execution_count": null,
   "metadata": {},
   "outputs": [],
   "source": []
  },
  {
   "cell_type": "code",
   "execution_count": null,
   "metadata": {},
   "outputs": [],
   "source": [
    "#score = loaded_model.evaluate(X, Y, verbose=0)\n",
    "#print(\"%s: %.2f%%\" % (loaded_model.metrics_names[1], score[1]*100))"
   ]
  },
  {
   "cell_type": "code",
   "execution_count": 6,
   "metadata": {},
   "outputs": [],
   "source": [
    "# finally, vectorize the text samples into a 2D integer tensor\n",
    "tokenizer = Tokenizer(num_words=MAX_NUM_WORDS)\n",
    "tokenizer.fit_on_texts(texts)\n",
    "sequences = tokenizer.texts_to_sequences(texts)"
   ]
  },
  {
   "cell_type": "code",
   "execution_count": 7,
   "metadata": {},
   "outputs": [],
   "source": [
    "test_texts = [\"First of all as far as I know, only male homosexuality is explicitly mentioned in the bibles, so you're off the hook there, I think. In \\\n",
    "              any event, there are *plenty* of people in many denominations who \\\n",
    "              do not consider a person's sexual identification of gay/lesbian/bisexual \\\n",
    "              as an 'immoral lifestyle choice'\",\n",
    "     \n",
    "             \"The Washington Post said that the shooter never should have had a gun if \\\n",
    "             the gun laws worked. Kinnunen was a well-known troublemaker, had been declared \\\n",
    "             mentally incompetent to stand trial in Oklahoma. He had been convicted of a \\\n",
    "             number of felonies. Nonetheless, The Washington Post blamed Texas gun laws for \\\n",
    "             the tragedy, forgetting that Kinnunen could not get a gun legally in any U.S. \\\n",
    "             jurisdiction. So did some presidential candidates, including Joe Biden\"\n",
    "             ]\n",
    "test_sequences = tokenizer.texts_to_sequences(test_texts)\n",
    "test_data = pad_sequences(test_sequences, maxlen=MAX_SEQUENCE_LENGTH)\n"
   ]
  },
  {
   "cell_type": "code",
   "execution_count": 8,
   "metadata": {},
   "outputs": [
    {
     "name": "stdout",
     "output_type": "stream",
     "text": [
      "[[5.3181246e-02 3.8055096e-05 1.3271233e-05 3.0078272e-06 1.0533590e-05\n",
      "  2.2115337e-05 3.5311536e-05 6.2333827e-05 5.4103810e-05 1.2913652e-04\n",
      "  2.6522033e-05 5.0886934e-05 9.5140194e-06 1.0347556e-03 1.0389760e-04\n",
      "  7.5437325e-01 5.2675768e-03 1.4406247e-03 4.3075304e-03 1.7983635e-01]\n",
      " [1.1667347e-05 6.4375803e-11 2.6426641e-10 1.2541957e-11 4.7187143e-09\n",
      "  1.6756381e-11 1.4207747e-08 2.3394100e-04 4.5673627e-07 1.1114547e-11\n",
      "  3.1038458e-10 1.2027851e-05 1.1325712e-07 7.8183273e-09 1.5910898e-07\n",
      "  6.8352572e-09 9.4905412e-01 1.2543119e-05 1.4235376e-02 3.6439486e-02]]\n"
     ]
    }
   ],
   "source": [
    "nn_output = loaded_model.predict(test_data)\n",
    "print(nn_output)"
   ]
  },
  {
   "cell_type": "code",
   "execution_count": 9,
   "metadata": {},
   "outputs": [
    {
     "name": "stdout",
     "output_type": "stream",
     "text": [
      "Category:  soc.religion.christian\n",
      "text:  First of all as far as I know, only male homosexuality is explicitly mentioned in the bibles, so you're off the hook there, I think. In               any event, there are *plenty* of people in many denominations who               do not consider a person's sexual identification of gay/lesbian/bisexual               as an 'immoral lifestyle choice'\n",
      "=====================================\n",
      "Category:  talk.politics.guns\n",
      "text:  The Washington Post said that the shooter never should have had a gun if              the gun laws worked. Kinnunen was a well-known troublemaker, had been declared              mentally incompetent to stand trial in Oklahoma. He had been convicted of a              number of felonies. Nonetheless, The Washington Post blamed Texas gun laws for              the tragedy, forgetting that Kinnunen could not get a gun legally in any U.S.              jurisdiction. So did some presidential candidates, including Joe Biden\n",
      "=====================================\n"
     ]
    }
   ],
   "source": [
    "i=0\n",
    "for idx in np.argmax(nn_output, axis=1):\n",
    "    print(\"Category: \", index_to_label_dict[idx])\n",
    "    print(\"text: \" , test_texts[i])\n",
    "    print(\"=====================================\")\n",
    "    i = i + 1"
   ]
  },
  {
   "cell_type": "code",
   "execution_count": null,
   "metadata": {},
   "outputs": [],
   "source": []
  },
  {
   "cell_type": "code",
   "execution_count": null,
   "metadata": {},
   "outputs": [],
   "source": []
  }
 ],
 "metadata": {
  "kernelspec": {
   "display_name": "Python 3",
   "language": "python",
   "name": "python3"
  },
  "language_info": {
   "codemirror_mode": {
    "name": "ipython",
    "version": 3
   },
   "file_extension": ".py",
   "mimetype": "text/x-python",
   "name": "python",
   "nbconvert_exporter": "python",
   "pygments_lexer": "ipython3",
   "version": "3.6.9"
  }
 },
 "nbformat": 4,
 "nbformat_minor": 2
}
