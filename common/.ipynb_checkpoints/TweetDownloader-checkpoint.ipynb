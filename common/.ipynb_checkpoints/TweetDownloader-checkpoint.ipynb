{
 "cells": [
  {
   "cell_type": "code",
   "execution_count": 2,
   "metadata": {},
   "outputs": [],
   "source": [
    "import os\n",
    "import tweepy\n",
    "from time import clock, sleep\n",
    "import csv\n",
    "import sys"
   ]
  },
  {
   "cell_type": "code",
   "execution_count": null,
   "metadata": {},
   "outputs": [],
   "source": [
    "#TWITTER_CONSUMER_KEY = os.environ.get('TWITTER_CONSUMER_KEY')\n",
    "#TWITTER_CONSUMER_SECRET = os.environ.get('TWITTER_CONSUMER_SECRET')\n",
    "#TWITTER_ACCESS_KEY = os.environ.get('TWITTER_ACCESS_KEY')\n",
    "#TWITTER_ACCESS_SECRET = os.environ.get('TWITTER_ACCESS_SECRET')"
   ]
  },
  {
   "cell_type": "code",
   "execution_count": 3,
   "metadata": {},
   "outputs": [],
   "source": [
    "TWITTER_CONSUMER_KEY = '4XWELPdHUTWsSI1BfsAz1VGTf'\n",
    "TWITTER_CONSUMER_SECRET = 'FwFZtdj34ACn6IhxsUh9spOaH3UL3L0QDDpIJKLOFfdvm0hXIs'\n",
    "TWITTER_ACCESS_KEY = '1199506694830559232-zSdFyPEtu7Vius9pRFnxS7rBTwfvxR'\n",
    "TWITTER_ACCESS_SECRET = 'NLB7F3gMGPSoTq0uB52wb1Fn2VORvAif4FGPaU0JUNeRn'"
   ]
  },
  {
   "cell_type": "code",
   "execution_count": 4,
   "metadata": {},
   "outputs": [],
   "source": [
    "hashtag = '#Brexit'\n",
    "tweets_file_name = 'Brexit_tweets.csv'\n",
    "tweets_quantity = 10"
   ]
  },
  {
   "cell_type": "code",
   "execution_count": 5,
   "metadata": {},
   "outputs": [
    {
     "name": "stdout",
     "output_type": "stream",
     "text": [
      "I have finished!\n"
     ]
    }
   ],
   "source": [
    "\n",
    "\n",
    "auth = tweepy.OAuthHandler(TWITTER_CONSUMER_KEY, TWITTER_CONSUMER_SECRET)\n",
    "auth.set_access_token(TWITTER_ACCESS_KEY, TWITTER_ACCESS_SECRET)\n",
    "api = tweepy.API(auth)\n",
    "\n",
    "start = clock()\n",
    "with open(tweets_file_name, 'w') as f:\n",
    "    writer = csv.writer(f)\n",
    "\n",
    "    class StreamListener(tweepy.StreamListener):\n",
    "\n",
    "        collected_tweets = 0\n",
    "\n",
    "        def on_status(self, status):\n",
    "            try:\n",
    "                tweet = status.text\n",
    "                tweet = tweet.replace('\\n', '\\\\n')\n",
    "                timePass = clock() - start\n",
    "                if timePass % 60 == 0:\n",
    "                    print (\"I have been working for\", timePass, \"seconds.\")\n",
    "                if not ('RT @' in tweet):  # Exclude re-tweets\n",
    "                    writer.writerow([tweet])\n",
    "                    self.collected_tweets += 1\n",
    "                    if self.collected_tweets % 1000 == 0:\n",
    "                        print (\"I have collected\", self.collected_tweets, \"tweets!\")\n",
    "                    if self.collected_tweets == tweets_quantity:\n",
    "                        print (\"I have finished!\")\n",
    "                        return False\n",
    "                    pass\n",
    "\n",
    "            except Exception as e:\n",
    "                sys.stderr.write('Encountered Exception:' + str(e))\n",
    "                pass\n",
    "\n",
    "        def on_error(self, status_code):\n",
    "            print('Error: ' + repr(status_code))\n",
    "            return True  # False to stop\n",
    "\n",
    "        def on_delete(self, status_id, user_id):\n",
    "            \"\"\"Called when a delete notice arrives for a status\"\"\"\n",
    "            print(\"Delete notice for\" + str(status_id) + '. ' + str(user_id))\n",
    "            return\n",
    "\n",
    "        def on_limit(self, track):\n",
    "            \"\"\"Called when a limitation notice arrives\"\"\"\n",
    "            return\n",
    "\n",
    "        def on_timeout(self):\n",
    "            \"\"\"Called when there is a timeout\"\"\"\n",
    "            sys.stderr.write('Timeout...')\n",
    "            sleep(10)\n",
    "            return True\n",
    "\n",
    "    streamingAPI = tweepy.streaming.Stream(auth, StreamListener())\n",
    "    streamingAPI.filter(track=[hashtag])"
   ]
  },
  {
   "cell_type": "code",
   "execution_count": null,
   "metadata": {},
   "outputs": [],
   "source": []
  }
 ],
 "metadata": {
  "kernelspec": {
   "display_name": "Python 3",
   "language": "python",
   "name": "python3"
  },
  "language_info": {
   "codemirror_mode": {
    "name": "ipython",
    "version": 3
   },
   "file_extension": ".py",
   "mimetype": "text/x-python",
   "name": "python",
   "nbconvert_exporter": "python",
   "pygments_lexer": "ipython3",
   "version": "3.6.9"
  }
 },
 "nbformat": 4,
 "nbformat_minor": 2
}
