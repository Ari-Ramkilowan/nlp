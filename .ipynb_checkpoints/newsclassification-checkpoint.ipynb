{
 "cells": [
  {
   "cell_type": "code",
   "execution_count": 10,
   "metadata": {},
   "outputs": [],
   "source": [
    "'''This script loads pre-trained word embeddings (GloVe embeddings)\n",
    "into a frozen Keras Embedding layer, and uses it to\n",
    "train a text classification model on the 20 Newsgroup dataset\n",
    "(classification of newsgroup messages into 20 different categories).\n",
    "\n",
    "GloVe embedding data can be found at:\n",
    "http://nlp.stanford.edu/data/glove.6B.zip\n",
    "(source page: http://nlp.stanford.edu/projects/glove/)\n",
    "\n",
    "20 Newsgroup data can be found at:\n",
    "http://www.cs.cmu.edu/afs/cs.cmu.edu/project/theo-20/www/data/news20.html\n",
    "'''\n",
    "\n",
    "from __future__ import print_function\n",
    "\n",
    "import os\n",
    "import sys\n",
    "import numpy as np\n",
    "from keras.preprocessing.text import Tokenizer\n",
    "from keras.preprocessing.sequence import pad_sequences\n",
    "from keras.utils import to_categorical\n",
    "from keras.layers import Dense, Input, GlobalMaxPooling1D, Dropout\n",
    "from keras.layers import Conv1D, MaxPooling1D, Embedding\n",
    "from keras.models import Model\n",
    "from keras.initializers import Constant\n",
    "from matplotlib import pyplot\n",
    "from keras import backend as K\n",
    "\n"
   ]
  },
  {
   "cell_type": "code",
   "execution_count": 11,
   "metadata": {},
   "outputs": [],
   "source": [
    "def recall_m(y_true, y_pred):\n",
    "        true_positives = K.sum(K.round(K.clip(y_true * y_pred, 0, 1)))\n",
    "        possible_positives = K.sum(K.round(K.clip(y_true, 0, 1)))\n",
    "        recall = true_positives / (possible_positives + K.epsilon())\n",
    "        return recall\n",
    "\n",
    "def precision_m(y_true, y_pred):\n",
    "        true_positives = K.sum(K.round(K.clip(y_true * y_pred, 0, 1)))\n",
    "        predicted_positives = K.sum(K.round(K.clip(y_pred, 0, 1)))\n",
    "        precision = true_positives / (predicted_positives + K.epsilon())\n",
    "        return precision\n",
    "\n",
    "def f1_m(y_true, y_pred):\n",
    "    precision = precision_m(y_true, y_pred)\n",
    "    recall = recall_m(y_true, y_pred)\n",
    "    return 2*((precision*recall)/(precision+recall+K.epsilon()))\n"
   ]
  },
  {
   "cell_type": "code",
   "execution_count": 2,
   "metadata": {},
   "outputs": [
    {
     "name": "stdout",
     "output_type": "stream",
     "text": [
      "Indexing word vectors.\n",
      "Found 400000 word vectors.\n"
     ]
    }
   ],
   "source": [
    "\n",
    "BASE_DIR = '/Volumes/My Passport for Mac/data'\n",
    "GLOVE_DIR = os.path.join(BASE_DIR, 'glove.6B')\n",
    "TEXT_DATA_DIR = os.path.join(BASE_DIR, '20_newsgroup')\n",
    "MAX_SEQUENCE_LENGTH = 1000\n",
    "MAX_NUM_WORDS = 20000\n",
    "EMBEDDING_DIM = 100\n",
    "VALIDATION_SPLIT = 0.2\n",
    "\n",
    "# first, build index mapping words in the embeddings set\n",
    "# to their embedding vector\n",
    "\n",
    "print('Indexing word vectors.')\n",
    "\n",
    "embeddings_index = {}\n",
    "with open(os.path.join(GLOVE_DIR, 'glove.6B.100d.txt')) as f:\n",
    "    for line in f:\n",
    "        word, coefs = line.split(maxsplit=1)\n",
    "        coefs = np.fromstring(coefs, 'f', sep=' ')\n",
    "        embeddings_index[word] = coefs\n",
    "\n",
    "print('Found %s word vectors.' % len(embeddings_index))\n"
   ]
  },
  {
   "cell_type": "code",
   "execution_count": 3,
   "metadata": {},
   "outputs": [
    {
     "name": "stdout",
     "output_type": "stream",
     "text": [
      "Processing text dataset\n",
      "Found 19997 texts.\n"
     ]
    }
   ],
   "source": [
    "\n",
    "# second, prepare text samples and their labels\n",
    "print('Processing text dataset')\n",
    "\n",
    "texts = []  # list of text samples\n",
    "labels_index = {}  # dictionary mapping label name to numeric id\n",
    "labels = []  # list of label ids\n",
    "for name in sorted(os.listdir(TEXT_DATA_DIR)):\n",
    "    path = os.path.join(TEXT_DATA_DIR, name)\n",
    "    if os.path.isdir(path):\n",
    "        label_id = len(labels_index)\n",
    "        labels_index[name] = label_id\n",
    "        for fname in sorted(os.listdir(path)):\n",
    "            if fname.isdigit():\n",
    "                fpath = os.path.join(path, fname)\n",
    "                args = {} if sys.version_info < (3,) else {'encoding': 'latin-1'}\n",
    "                with open(fpath, **args) as f:\n",
    "                    t = f.read()\n",
    "                    i = t.find('\\n\\n')  # skip header\n",
    "                    if 0 < i:\n",
    "                        t = t[i:]\n",
    "                    texts.append(t)\n",
    "                labels.append(label_id)\n",
    "\n",
    "print('Found %s texts.' % len(texts))\n"
   ]
  },
  {
   "cell_type": "code",
   "execution_count": 4,
   "metadata": {},
   "outputs": [
    {
     "name": "stdout",
     "output_type": "stream",
     "text": [
      "Found 174074 unique tokens.\n",
      "Shape of data tensor: (19997, 1000)\n",
      "Shape of label tensor: (19997, 20)\n"
     ]
    }
   ],
   "source": [
    "\n",
    "# finally, vectorize the text samples into a 2D integer tensor\n",
    "tokenizer = Tokenizer(num_words=MAX_NUM_WORDS)\n",
    "tokenizer.fit_on_texts(texts)\n",
    "sequences = tokenizer.texts_to_sequences(texts)\n",
    "\n",
    "word_index = tokenizer.word_index\n",
    "print('Found %s unique tokens.' % len(word_index))\n",
    "\n",
    "data = pad_sequences(sequences, maxlen=MAX_SEQUENCE_LENGTH)\n",
    "\n",
    "labels = to_categorical(np.asarray(labels))\n",
    "print('Shape of data tensor:', data.shape)\n",
    "print('Shape of label tensor:', labels.shape)\n",
    "\n",
    "# split the data into a training set and a validation set\n",
    "indices = np.arange(data.shape[0])\n",
    "np.random.shuffle(indices)\n",
    "data = data[indices]\n",
    "labels = labels[indices]\n",
    "num_validation_samples = int(VALIDATION_SPLIT * data.shape[0])\n",
    "\n",
    "x_train = data[:-num_validation_samples]\n",
    "y_train = labels[:-num_validation_samples]\n",
    "x_val = data[-num_validation_samples:]\n",
    "y_val = labels[-num_validation_samples:]\n"
   ]
  },
  {
   "cell_type": "code",
   "execution_count": 5,
   "metadata": {},
   "outputs": [
    {
     "name": "stdout",
     "output_type": "stream",
     "text": [
      "Preparing embedding matrix.\n"
     ]
    }
   ],
   "source": [
    "\n",
    "print('Preparing embedding matrix.')\n",
    "\n",
    "# prepare embedding matrix\n",
    "num_words = min(MAX_NUM_WORDS, len(word_index) + 1)\n",
    "embedding_matrix = np.zeros((num_words, EMBEDDING_DIM))\n",
    "for word, i in word_index.items():\n",
    "    if i >= MAX_NUM_WORDS:\n",
    "        continue\n",
    "    embedding_vector = embeddings_index.get(word)\n",
    "    if embedding_vector is not None:\n",
    "        # words not found in embedding index will be all-zeros.\n",
    "        embedding_matrix[i] = embedding_vector\n",
    "\n",
    "# load pre-trained word embeddings into an Embedding layer\n",
    "# note that we set trainable = False so as to keep the embeddings fixed\n",
    "embedding_layer = Embedding(num_words,\n",
    "                            EMBEDDING_DIM,\n",
    "                            embeddings_initializer=Constant(embedding_matrix),\n",
    "                            input_length=MAX_SEQUENCE_LENGTH,\n",
    "                            trainable=False)\n"
   ]
  },
  {
   "cell_type": "code",
   "execution_count": 25,
   "metadata": {},
   "outputs": [
    {
     "name": "stdout",
     "output_type": "stream",
     "text": [
      "Training model.\n",
      "Train on 15998 samples, validate on 3999 samples\n",
      "Epoch 1/15\n",
      "15998/15998 [==============================] - 39s 2ms/step - loss: 2.4789 - acc: 0.1931 - f1_m: 0.0579 - precision_m: 0.3516 - recall_m: 0.0326 - val_loss: 2.0228 - val_acc: 0.3003 - val_f1_m: 0.1145 - val_precision_m: 0.7768 - val_recall_m: 0.0623\n",
      "Epoch 2/15\n",
      "15998/15998 [==============================] - 40s 2ms/step - loss: 1.5932 - acc: 0.4531 - f1_m: 0.3541 - precision_m: 0.7005 - recall_m: 0.2413 - val_loss: 1.3911 - val_acc: 0.5329 - val_f1_m: 0.4018 - val_precision_m: 0.8638 - val_recall_m: 0.2633\n",
      "Epoch 3/15\n",
      "15998/15998 [==============================] - 40s 2ms/step - loss: 1.2443 - acc: 0.5744 - f1_m: 0.5293 - precision_m: 0.7577 - recall_m: 0.4084 - val_loss: 1.3067 - val_acc: 0.5824 - val_f1_m: 0.4898 - val_precision_m: 0.8606 - val_recall_m: 0.3439\n",
      "Epoch 4/15\n",
      "15998/15998 [==============================] - 39s 2ms/step - loss: 1.0421 - acc: 0.6476 - f1_m: 0.6218 - precision_m: 0.7941 - recall_m: 0.5124 - val_loss: 1.0521 - val_acc: 0.6689 - val_f1_m: 0.5957 - val_precision_m: 0.8657 - val_recall_m: 0.4552\n",
      "Epoch 5/15\n",
      "15998/15998 [==============================] - 39s 2ms/step - loss: 0.9055 - acc: 0.6946 - f1_m: 0.6837 - precision_m: 0.8234 - recall_m: 0.5855 - val_loss: 0.9798 - val_acc: 0.6819 - val_f1_m: 0.6473 - val_precision_m: 0.8688 - val_recall_m: 0.5168\n",
      "Epoch 6/15\n",
      "15998/15998 [==============================] - 42s 3ms/step - loss: 0.8065 - acc: 0.7273 - f1_m: 0.7221 - precision_m: 0.8382 - recall_m: 0.6349 - val_loss: 1.0473 - val_acc: 0.6607 - val_f1_m: 0.6269 - val_precision_m: 0.8441 - val_recall_m: 0.4997\n",
      "Epoch 7/15\n",
      "15998/15998 [==============================] - 41s 3ms/step - loss: 0.7195 - acc: 0.7609 - f1_m: 0.7559 - precision_m: 0.8536 - recall_m: 0.6790 - val_loss: 0.8801 - val_acc: 0.7209 - val_f1_m: 0.7151 - val_precision_m: 0.8669 - val_recall_m: 0.6093\n",
      "Epoch 8/15\n",
      "15998/15998 [==============================] - 40s 3ms/step - loss: 0.6487 - acc: 0.7799 - f1_m: 0.7787 - precision_m: 0.8618 - recall_m: 0.7110 - val_loss: 0.8832 - val_acc: 0.7229 - val_f1_m: 0.7110 - val_precision_m: 0.8626 - val_recall_m: 0.6054\n",
      "Epoch 9/15\n",
      "15998/15998 [==============================] - 40s 2ms/step - loss: 0.5861 - acc: 0.8030 - f1_m: 0.8021 - precision_m: 0.8752 - recall_m: 0.7410 - val_loss: 0.8427 - val_acc: 0.7192 - val_f1_m: 0.7158 - val_precision_m: 0.8358 - val_recall_m: 0.6266\n",
      "Epoch 10/15\n",
      "15998/15998 [==============================] - 40s 3ms/step - loss: 0.5269 - acc: 0.8207 - f1_m: 0.8216 - precision_m: 0.8824 - recall_m: 0.7692 - val_loss: 0.9215 - val_acc: 0.7094 - val_f1_m: 0.7144 - val_precision_m: 0.8047 - val_recall_m: 0.6428\n",
      "Epoch 11/15\n",
      "15998/15998 [==============================] - 40s 2ms/step - loss: 0.4847 - acc: 0.8323 - f1_m: 0.8332 - precision_m: 0.8861 - recall_m: 0.7867 - val_loss: 0.8466 - val_acc: 0.7357 - val_f1_m: 0.7392 - val_precision_m: 0.8332 - val_recall_m: 0.6648\n",
      "Epoch 12/15\n",
      "15998/15998 [==============================] - 40s 3ms/step - loss: 0.4348 - acc: 0.8476 - f1_m: 0.8480 - precision_m: 0.8941 - recall_m: 0.8068 - val_loss: 0.8494 - val_acc: 0.7299 - val_f1_m: 0.7344 - val_precision_m: 0.8068 - val_recall_m: 0.6743\n",
      "Epoch 13/15\n",
      "15998/15998 [==============================] - 38s 2ms/step - loss: 0.4119 - acc: 0.8565 - f1_m: 0.8567 - precision_m: 0.8987 - recall_m: 0.8187 - val_loss: 0.9314 - val_acc: 0.7187 - val_f1_m: 0.7321 - val_precision_m: 0.8021 - val_recall_m: 0.6736\n",
      "Epoch 14/15\n",
      "15998/15998 [==============================] - 38s 2ms/step - loss: 0.3748 - acc: 0.8699 - f1_m: 0.8716 - precision_m: 0.9075 - recall_m: 0.8387 - val_loss: 0.7625 - val_acc: 0.7662 - val_f1_m: 0.7752 - val_precision_m: 0.8384 - val_recall_m: 0.7212\n",
      "Epoch 15/15\n",
      "15998/15998 [==============================] - 39s 2ms/step - loss: 0.3462 - acc: 0.8763 - f1_m: 0.8778 - precision_m: 0.9099 - recall_m: 0.8482 - val_loss: 0.7640 - val_acc: 0.7724 - val_f1_m: 0.7813 - val_precision_m: 0.8413 - val_recall_m: 0.7296\n"
     ]
    }
   ],
   "source": [
    "\n",
    "print('Training model.')\n",
    "\n",
    "# train a 1D convnet with global maxpooling\n",
    "sequence_input = Input(shape=(MAX_SEQUENCE_LENGTH,), dtype='int32')\n",
    "embedded_sequences = embedding_layer(sequence_input)\n",
    "x = Conv1D(128, 5, activation='relu')(embedded_sequences)\n",
    "x = Dropout(0.2)(x)\n",
    "x = MaxPooling1D(5)(x)\n",
    "x = Conv1D(128, 5, activation='relu')(x)\n",
    "x = Dropout(0.3)(x)\n",
    "x = MaxPooling1D(5)(x)\n",
    "x = Conv1D(128, 5, activation='relu')(x)\n",
    "x = GlobalMaxPooling1D()(x)\n",
    "x = Dense(128, activation='relu')(x)\n",
    "preds = Dense(len(labels_index), activation='softmax')(x)\n",
    "\n",
    "model = Model(sequence_input, preds)\n",
    "model.compile(loss='categorical_crossentropy',\n",
    "              optimizer='rmsprop',\n",
    "              metrics=['acc', f1_m, precision_m, recall_m])\n",
    "\n",
    "history = model.fit(x_train, y_train,\n",
    "          batch_size=128,\n",
    "          epochs=15,\n",
    "          validation_data=(x_val, y_val))"
   ]
  },
  {
   "cell_type": "code",
   "execution_count": 26,
   "metadata": {},
   "outputs": [
    {
     "data": {
      "image/png": "[encoded data removed]",
      "text/plain": [
       "<Figure size 432x288 with 1 Axes>"
      ]
     },
     "metadata": {
      "needs_background": "light"
     },
     "output_type": "display_data"
    }
   ],
   "source": [
    "# plot metrics\n",
    "pyplot.plot(history.history[\"f1_m\"],  label=\"f1 score\")\n",
    "pyplot.plot(history.history[\"precision_m\"], label=\"precision\")\n",
    "pyplot.plot(history.history[\"recall_m\"], label=\"recall\")\n",
    "pyplot.plot(history.history['acc'] , label=\"accuracy\")\n",
    "pyplot.title('Evaluation stats')\n",
    "pyplot.legend(loc=\"upper left\")\n",
    "pyplot.show()"
   ]
  },
  {
   "cell_type": "code",
   "execution_count": null,
   "metadata": {},
   "outputs": [],
   "source": [
    "\n",
    "# serialize model to JSON\n",
    "model_json = model.to_json()\n",
    "with open(\"model.json\", \"w\") as json_file:\n",
    "    json_file.write(model_json)\n",
    "# serialize weights to HDF5\n",
    "model.save_weights(\"model.h5\")\n",
    "print(\"Saved model to disk\")\n",
    "\n"
   ]
  },
  {
   "cell_type": "code",
   "execution_count": null,
   "metadata": {},
   "outputs": [],
   "source": [
    "\n",
    "# load json and create model\n",
    "json_file = open('model.json', 'r')\n",
    "loaded_model_json = json_file.read()\n",
    "json_file.close()\n",
    "loaded_model = model_from_json(loaded_model_json)\n",
    "# load weights into new model\n",
    "loaded_model.load_weights(\"model.h5\")\n",
    "print(\"Loaded model from disk\")\n",
    " \n",
    "# evaluate loaded model on test data\n",
    "loaded_model.compile(loss='categorical_crossentropy', optimizer='rmsprop', metrics=['accuracy'])\n",
    "score = loaded_model.evaluate(X, Y, verbose=0)\n",
    "print(\"%s: %.2f%%\" % (loaded_model.metrics_names[1], score[1]*100))"
   ]
  }
 ],
 "metadata": {
  "kernelspec": {
   "display_name": "Python 3",
   "language": "python",
   "name": "python3"
  },
  "language_info": {
   "codemirror_mode": {
    "name": "ipython",
    "version": 3
   },
   "file_extension": ".py",
   "mimetype": "text/x-python",
   "name": "python",
   "nbconvert_exporter": "python",
   "pygments_lexer": "ipython3",
   "version": "3.6.9"
  }
 },
 "nbformat": 4,
 "nbformat_minor": 2
}
